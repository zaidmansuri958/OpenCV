{
 "cells": [
  {
   "cell_type": "code",
   "execution_count": 1,
   "metadata": {},
   "outputs": [],
   "source": [
    "import cv2"
   ]
  },
  {
   "cell_type": "code",
   "execution_count": 8,
   "metadata": {},
   "outputs": [],
   "source": [
    "video=cv2.VideoCapture(\"video.mp4\")"
   ]
  },
  {
   "cell_type": "code",
   "execution_count": 9,
   "metadata": {},
   "outputs": [],
   "source": [
    "while True:\n",
    "    ret,frame=video.read()\n",
    "    if not ret:\n",
    "        break \n",
    "    cv2.imshow(\"video frame\",frame)\n",
    "    if cv2.waitKey(1) & 0xFF == ord('q'):\n",
    "        break \n",
    "# T0 ----> f1\n",
    "# wait for 1ms\n",
    "# T1 -----> f2\n",
    "# cv2.waitKey() suggest that it will wait for one ms\n",
    "\n",
    "video.release()\n",
    "cv2.destroyAllWindows()\n",
    "\n",
    "\n"
   ]
  },
  {
   "cell_type": "code",
   "execution_count": 11,
   "metadata": {},
   "outputs": [],
   "source": [
    "video=cv2.VideoCapture(\"video.mp4\")\n",
    "\n",
    "fourcc=cv2.VideoWriter_fourcc(*\"mp4v\")\n",
    "width=int(video.get(cv2.CAP_PROP_FRAME_WIDTH))\n",
    "height=int(video.get(cv2.CAP_PROP_FRAME_HEIGHT))\n",
    "out=cv2.VideoWriter(\"./output.mp4\",fourcc,30,(width,height))\n",
    "\n",
    "while True:\n",
    "    ret,frame=video.read()\n",
    "\n",
    "    if not ret:\n",
    "        break\n",
    "    out.write(frame)\n",
    "\n",
    "out.release()\n",
    "video.release()\n",
    "cv2.destroyAllWindows()\n"
   ]
  },
  {
   "cell_type": "code",
   "execution_count": null,
   "metadata": {},
   "outputs": [],
   "source": []
  }
 ],
 "metadata": {
  "kernelspec": {
   "display_name": "Python 3.12.1 64-bit",
   "language": "python",
   "name": "python3"
  },
  "language_info": {
   "codemirror_mode": {
    "name": "ipython",
    "version": 3
   },
   "file_extension": ".py",
   "mimetype": "text/x-python",
   "name": "python",
   "nbconvert_exporter": "python",
   "pygments_lexer": "ipython3",
   "version": "3.12.1"
  },
  "orig_nbformat": 4,
  "vscode": {
   "interpreter": {
    "hash": "3fcbd7240ee8f908d933dc7f71e8c42a1a91163b70ede8dcff5146d4087436c7"
   }
  }
 },
 "nbformat": 4,
 "nbformat_minor": 2
}
